{
 "cells": [
  {
   "cell_type": "code",
   "execution_count": 1,
   "metadata": {},
   "outputs": [
    {
     "name": "stdout",
     "output_type": "stream",
     "text": [
      "Integer (int):  <class 'int'>\n",
      "Float (float):  <class 'float'>\n",
      "String (str):  <class 'str'>\n",
      "Boolean (bool):  <class 'bool'>\n"
     ]
    }
   ],
   "source": [
    "print(\"Integer (int): \", type(1))\n",
    "print(\"Float (float): \", type(1.5))\n",
    "print(\"String (str): \", type(\"1\"))\n",
    "print(\"Boolean (bool): \", type(True))"
   ]
  },
  {
   "cell_type": "code",
   "execution_count": 2,
   "metadata": {},
   "outputs": [
    {
     "data": {
      "text/plain": [
       "6"
      ]
     },
     "execution_count": 2,
     "metadata": {},
     "output_type": "execute_result"
    }
   ],
   "source": [
    "2 * 3"
   ]
  },
  {
   "cell_type": "code",
   "execution_count": 3,
   "metadata": {},
   "outputs": [],
   "source": [
    "# \"2\" * \"3\""
   ]
  },
  {
   "cell_type": "code",
   "execution_count": 4,
   "metadata": {},
   "outputs": [
    {
     "data": {
      "text/plain": [
       "'222'"
      ]
     },
     "execution_count": 4,
     "metadata": {},
     "output_type": "execute_result"
    }
   ],
   "source": [
    "\"2\" * 3"
   ]
  },
  {
   "cell_type": "code",
   "execution_count": 5,
   "metadata": {},
   "outputs": [
    {
     "data": {
      "text/plain": [
       "'yusuf gzb'"
      ]
     },
     "execution_count": 5,
     "metadata": {},
     "output_type": "execute_result"
    }
   ],
   "source": [
    "\"yusuf\" + \" gzb\""
   ]
  },
  {
   "cell_type": "code",
   "execution_count": 6,
   "metadata": {},
   "outputs": [
    {
     "data": {
      "text/plain": [
       "538.1999999999999"
      ]
     },
     "execution_count": 6,
     "metadata": {},
     "output_type": "execute_result"
    }
   ],
   "source": [
    "23*23.4"
   ]
  },
  {
   "attachments": {},
   "cell_type": "markdown",
   "metadata": {},
   "source": [
    "* Değişken atama"
   ]
  },
  {
   "cell_type": "code",
   "execution_count": 7,
   "metadata": {},
   "outputs": [
    {
     "data": {
      "text/plain": [
       "1"
      ]
     },
     "execution_count": 7,
     "metadata": {},
     "output_type": "execute_result"
    }
   ],
   "source": [
    "yusuf_yas = 1\n",
    "yusuf_yas"
   ]
  },
  {
   "cell_type": "code",
   "execution_count": 8,
   "metadata": {},
   "outputs": [
    {
     "data": {
      "text/plain": [
       "int"
      ]
     },
     "execution_count": 8,
     "metadata": {},
     "output_type": "execute_result"
    }
   ],
   "source": [
    "type(yusuf_yas)"
   ]
  },
  {
   "cell_type": "code",
   "execution_count": 9,
   "metadata": {},
   "outputs": [
    {
     "data": {
      "text/plain": [
       "2.9"
      ]
     },
     "execution_count": 9,
     "metadata": {},
     "output_type": "execute_result"
    }
   ],
   "source": [
    "yusuf_yas = 2.9\n",
    "yusuf_yas"
   ]
  },
  {
   "cell_type": "code",
   "execution_count": 10,
   "metadata": {},
   "outputs": [
    {
     "data": {
      "text/plain": [
       "float"
      ]
     },
     "execution_count": 10,
     "metadata": {},
     "output_type": "execute_result"
    }
   ],
   "source": [
    "type(yusuf_yas)"
   ]
  },
  {
   "cell_type": "code",
   "execution_count": 11,
   "metadata": {},
   "outputs": [
    {
     "data": {
      "text/plain": [
       "24.389"
      ]
     },
     "execution_count": 11,
     "metadata": {},
     "output_type": "execute_result"
    }
   ],
   "source": [
    "yusuf_yas * yusuf_yas * yusuf_yas"
   ]
  },
  {
   "attachments": {},
   "cell_type": "markdown",
   "metadata": {},
   "source": [
    "* Yorum Satırı"
   ]
  },
  {
   "cell_type": "code",
   "execution_count": 12,
   "metadata": {},
   "outputs": [],
   "source": [
    "# Bu bir yorum"
   ]
  },
  {
   "cell_type": "code",
   "execution_count": 13,
   "metadata": {},
   "outputs": [
    {
     "data": {
      "text/plain": [
       "'\\nçoklu \\nyorum satırı\\n'"
      ]
     },
     "execution_count": 13,
     "metadata": {},
     "output_type": "execute_result"
    }
   ],
   "source": [
    "\"\"\"\n",
    "çoklu \n",
    "yorum satırı\n",
    "\"\"\" "
   ]
  },
  {
   "attachments": {},
   "cell_type": "markdown",
   "metadata": {},
   "source": [
    "* matematik operatörü"
   ]
  },
  {
   "cell_type": "code",
   "execution_count": 14,
   "metadata": {},
   "outputs": [
    {
     "data": {
      "text/plain": [
       "3"
      ]
     },
     "execution_count": 14,
     "metadata": {},
     "output_type": "execute_result"
    }
   ],
   "source": [
    "a = 1\n",
    "b = 2\n",
    "a+b"
   ]
  },
  {
   "cell_type": "code",
   "execution_count": 15,
   "metadata": {},
   "outputs": [
    {
     "data": {
      "text/plain": [
       "-1"
      ]
     },
     "execution_count": 15,
     "metadata": {},
     "output_type": "execute_result"
    }
   ],
   "source": [
    "a = 1\n",
    "b = 2\n",
    "a-b"
   ]
  },
  {
   "cell_type": "code",
   "execution_count": 16,
   "metadata": {},
   "outputs": [
    {
     "data": {
      "text/plain": [
       "1.5"
      ]
     },
     "execution_count": 16,
     "metadata": {},
     "output_type": "execute_result"
    }
   ],
   "source": [
    "a = 3\n",
    "b = 2\n",
    "a/b"
   ]
  },
  {
   "cell_type": "code",
   "execution_count": 17,
   "metadata": {},
   "outputs": [
    {
     "data": {
      "text/plain": [
       "6"
      ]
     },
     "execution_count": 17,
     "metadata": {},
     "output_type": "execute_result"
    }
   ],
   "source": [
    "a = 3\n",
    "b = 2\n",
    "a*b"
   ]
  },
  {
   "cell_type": "code",
   "execution_count": 18,
   "metadata": {},
   "outputs": [
    {
     "data": {
      "text/plain": [
       "1"
      ]
     },
     "execution_count": 18,
     "metadata": {},
     "output_type": "execute_result"
    }
   ],
   "source": [
    "# Tamsayı bölmesi\n",
    "a = 7\n",
    "b = 6\n",
    "a//b"
   ]
  },
  {
   "cell_type": "code",
   "execution_count": 19,
   "metadata": {},
   "outputs": [
    {
     "data": {
      "text/plain": [
       "0"
      ]
     },
     "execution_count": 19,
     "metadata": {},
     "output_type": "execute_result"
    }
   ],
   "source": [
    "# mod alma\n",
    "a = 6\n",
    "b = 3\n",
    "a % b"
   ]
  },
  {
   "cell_type": "code",
   "execution_count": 20,
   "metadata": {},
   "outputs": [
    {
     "data": {
      "text/plain": [
       "2"
      ]
     },
     "execution_count": 20,
     "metadata": {},
     "output_type": "execute_result"
    }
   ],
   "source": [
    "a = 6\n",
    "b = 4\n",
    "a % b"
   ]
  },
  {
   "attachments": {},
   "cell_type": "markdown",
   "metadata": {},
   "source": [
    "* Veri Tipi Dönüşümü"
   ]
  },
  {
   "cell_type": "code",
   "execution_count": 21,
   "metadata": {},
   "outputs": [
    {
     "data": {
      "text/plain": [
       "22"
      ]
     },
     "execution_count": 21,
     "metadata": {},
     "output_type": "execute_result"
    }
   ],
   "source": [
    "a = 6.3\n",
    "b = 3.5\n",
    "int(a*b)"
   ]
  },
  {
   "cell_type": "code",
   "execution_count": 22,
   "metadata": {},
   "outputs": [
    {
     "data": {
      "text/plain": [
       "18.0"
      ]
     },
     "execution_count": 22,
     "metadata": {},
     "output_type": "execute_result"
    }
   ],
   "source": [
    "a = 6\n",
    "b = 3\n",
    "float(a*b)"
   ]
  },
  {
   "cell_type": "code",
   "execution_count": 23,
   "metadata": {},
   "outputs": [
    {
     "data": {
      "text/plain": [
       "232"
      ]
     },
     "execution_count": 23,
     "metadata": {},
     "output_type": "execute_result"
    }
   ],
   "source": [
    "yazi = \"232\"\n",
    "int(yazi)"
   ]
  },
  {
   "cell_type": "code",
   "execution_count": 24,
   "metadata": {},
   "outputs": [],
   "source": [
    "# yazi = \"232as34455\"\n",
    "# int(yazi)"
   ]
  },
  {
   "attachments": {},
   "cell_type": "markdown",
   "metadata": {},
   "source": [
    "## Veri türleri\n",
    "* Liste\n",
    "* dict\n",
    "* set"
   ]
  },
  {
   "attachments": {},
   "cell_type": "markdown",
   "metadata": {},
   "source": [
    "## Listeler (Lists)"
   ]
  },
  {
   "attachments": {},
   "cell_type": "markdown",
   "metadata": {},
   "source": [
    "Listeler süper esnektir, aynı tuplelar da olduğu gibi diğer veri tiplerinin birleşimden oluşurlar ancak üzerlerinde **değişiklik yapmamıza izin verirler**.\n",
    "\n",
    "> **Önemli Not:** Listelerin köşeli parantezler ile gösterildiğine dikkat edin!"
   ]
  },
  {
   "cell_type": "code",
   "execution_count": 25,
   "metadata": {},
   "outputs": [
    {
     "name": "stdout",
     "output_type": "stream",
     "text": [
      "[1, [2, 3, 4], 3, 4, 5, 6, 7, 8]\n"
     ]
    }
   ],
   "source": [
    "example_list = [1,[2,3,4],3,4,5,6,7,8]\n",
    "print(example_list)"
   ]
  },
  {
   "cell_type": "code",
   "execution_count": 26,
   "metadata": {},
   "outputs": [
    {
     "data": {
      "text/plain": [
       "list"
      ]
     },
     "execution_count": 26,
     "metadata": {},
     "output_type": "execute_result"
    }
   ],
   "source": [
    "type(example_list)"
   ]
  },
  {
   "cell_type": "code",
   "execution_count": 27,
   "metadata": {},
   "outputs": [
    {
     "name": "stdout",
     "output_type": "stream",
     "text": [
      "[1, [2, 3, 4], 3, 4]\n"
     ]
    }
   ],
   "source": [
    "print(example_list[:4])"
   ]
  },
  {
   "cell_type": "code",
   "execution_count": 28,
   "metadata": {},
   "outputs": [
    {
     "data": {
      "text/plain": [
       "['DIFFERENT NOW', [2, 3, 4], 3, 4, 5, 6, 7, 8]"
      ]
     },
     "execution_count": 28,
     "metadata": {},
     "output_type": "execute_result"
    }
   ],
   "source": [
    "example_list[0] = 'DIFFERENT NOW'\n",
    "example_list"
   ]
  },
  {
   "cell_type": "code",
   "execution_count": 29,
   "metadata": {},
   "outputs": [
    {
     "data": {
      "text/plain": [
       "list"
      ]
     },
     "execution_count": 29,
     "metadata": {},
     "output_type": "execute_result"
    }
   ],
   "source": [
    "type(example_list)"
   ]
  },
  {
   "cell_type": "code",
   "execution_count": 30,
   "metadata": {},
   "outputs": [
    {
     "name": "stdout",
     "output_type": "stream",
     "text": [
      "[1, 2, 3, 4, 5, 6, 7, 'yusuf', 4.3]\n"
     ]
    }
   ],
   "source": [
    "sayilar = [1,2,3,4,5,6,7,\"yusuf\",4.3]\n",
    "print(sayilar)"
   ]
  },
  {
   "cell_type": "code",
   "execution_count": 31,
   "metadata": {},
   "outputs": [
    {
     "data": {
      "text/plain": [
       "[1, 2, 3, 4, 5, 6, 7, 'yusuf', 4.3, 23]"
      ]
     },
     "execution_count": 31,
     "metadata": {},
     "output_type": "execute_result"
    }
   ],
   "source": [
    "sayilar.append(23)\n",
    "sayilar"
   ]
  },
  {
   "cell_type": "code",
   "execution_count": 32,
   "metadata": {},
   "outputs": [
    {
     "data": {
      "text/plain": [
       "[1, 2, 3, 45, 4, 5, 6, 7, 'yusuf', 4.3, 23]"
      ]
     },
     "execution_count": 32,
     "metadata": {},
     "output_type": "execute_result"
    }
   ],
   "source": [
    "sayilar.insert(3,45)\n",
    "sayilar"
   ]
  },
  {
   "cell_type": "code",
   "execution_count": 33,
   "metadata": {},
   "outputs": [
    {
     "data": {
      "text/plain": [
       "[1, 2, 3, 45, 4, 5, 6, 7, 'yusuf', 4.3]"
      ]
     },
     "execution_count": 33,
     "metadata": {},
     "output_type": "execute_result"
    }
   ],
   "source": [
    "sayilar.pop()\n",
    "sayilar"
   ]
  },
  {
   "cell_type": "code",
   "execution_count": 34,
   "metadata": {},
   "outputs": [
    {
     "data": {
      "text/plain": [
       "[2, 3, 45, 4, 5, 6, 7, 'yusuf', 4.3]"
      ]
     },
     "execution_count": 34,
     "metadata": {},
     "output_type": "execute_result"
    }
   ],
   "source": [
    "sayilar.pop(0)\n",
    "sayilar"
   ]
  },
  {
   "cell_type": "code",
   "execution_count": 35,
   "metadata": {},
   "outputs": [
    {
     "data": {
      "text/plain": [
       "[2, 3, 45, 4, 5, 6, 7, 4.3]"
      ]
     },
     "execution_count": 35,
     "metadata": {},
     "output_type": "execute_result"
    }
   ],
   "source": [
    "sayilar.remove(\"yusuf\")\n",
    "sayilar"
   ]
  },
  {
   "attachments": {},
   "cell_type": "markdown",
   "metadata": {},
   "source": [
    "Peki ya birden fazla elemanı almak istersem?\n",
    "- İşte o zaman verinin o kısmını ayırmam lazım.\n",
    "\n",
    "Python Slicing:\n",
    "\n",
    "```python\n",
    "# Slicing Yapısı\n",
    "ayrılacak_değişkenin_ismi[başlangıç_index : bitiş_index : atlama_sayısı] \n",
    "```\n",
    "> **Önemli Not:** İndex sayıları belirtilirken başlangıç_index olarak belirttiğimiz index dahil edilirken, bitiş_index dahil edilmez!"
   ]
  },
  {
   "cell_type": "code",
   "execution_count": 36,
   "metadata": {},
   "outputs": [
    {
     "data": {
      "text/plain": [
       "[3, 45, 4]"
      ]
     },
     "execution_count": 36,
     "metadata": {},
     "output_type": "execute_result"
    }
   ],
   "source": [
    "sayi = sayilar[1:4]\n",
    "sayi"
   ]
  },
  {
   "cell_type": "code",
   "execution_count": 37,
   "metadata": {},
   "outputs": [
    {
     "data": {
      "text/plain": [
       "[2, 3, 45, 4, 5, 6, 7, 4.3]"
      ]
     },
     "execution_count": 37,
     "metadata": {},
     "output_type": "execute_result"
    }
   ],
   "source": [
    "sayi = sayilar[::1]\n",
    "sayi"
   ]
  },
  {
   "cell_type": "code",
   "execution_count": 38,
   "metadata": {},
   "outputs": [
    {
     "data": {
      "text/plain": [
       "[4.3, 7, 6, 5, 4, 45, 3, 2]"
      ]
     },
     "execution_count": 38,
     "metadata": {},
     "output_type": "execute_result"
    }
   ],
   "source": [
    "sayi = sayilar[::-1]\n",
    "sayi"
   ]
  },
  {
   "cell_type": "code",
   "execution_count": 39,
   "metadata": {},
   "outputs": [
    {
     "data": {
      "text/plain": [
       "[2, 45, 5, 7]"
      ]
     },
     "execution_count": 39,
     "metadata": {},
     "output_type": "execute_result"
    }
   ],
   "source": [
    "sayi = sayilar[::2]\n",
    "sayi"
   ]
  },
  {
   "cell_type": "code",
   "execution_count": 40,
   "metadata": {},
   "outputs": [
    {
     "data": {
      "text/plain": [
       "'ysf'"
      ]
     },
     "execution_count": 40,
     "metadata": {},
     "output_type": "execute_result"
    }
   ],
   "source": [
    "isim = \"yusuf\"\n",
    "isim[::2]"
   ]
  },
  {
   "attachments": {},
   "cell_type": "markdown",
   "metadata": {},
   "source": [
    "## Tuple "
   ]
  },
  {
   "attachments": {},
   "cell_type": "markdown",
   "metadata": {},
   "source": [
    "Bir tuple, aslında diğer veri tiplerinin bir kombinasyonundan oluşur.\n",
    "\n",
    "> **Önemli Not:** Tuple'ların parantezler ile gösterildiğine dikkat edin!"
   ]
  },
  {
   "cell_type": "code",
   "execution_count": 41,
   "metadata": {},
   "outputs": [
    {
     "name": "stdout",
     "output_type": "stream",
     "text": [
      "(1, 2, 'bob', 19, 'eleventeen', 37)\n"
     ]
    }
   ],
   "source": [
    "example_tuple = (1, 2, \"bob\", 19, \"eleventeen\", 37)\n",
    "print(example_tuple)"
   ]
  },
  {
   "cell_type": "code",
   "execution_count": 42,
   "metadata": {},
   "outputs": [
    {
     "data": {
      "text/plain": [
       "tuple"
      ]
     },
     "execution_count": 42,
     "metadata": {},
     "output_type": "execute_result"
    }
   ],
   "source": [
    "type(example_tuple)"
   ]
  },
  {
   "attachments": {},
   "cell_type": "markdown",
   "metadata": {},
   "source": [
    "Artık bir tuple veri yapısına sahip olduğumuza göre, ondan tek bir parça almak istersek ne yapmamız gerek?\n",
    "\n",
    "Tuple veri tipi içerisinde bir çok değer barındırdığı için onların içerisinden istediğimiz kısmı alabilmemiz için **Python index** yapısını kullanmamız gerekir."
   ]
  },
  {
   "cell_type": "code",
   "execution_count": 43,
   "metadata": {},
   "outputs": [
    {
     "name": "stdout",
     "output_type": "stream",
     "text": [
      "2\n",
      "bob\n"
     ]
    }
   ],
   "source": [
    "print(example_tuple[1]) # Unutmayalım, Python'da index yapıları 0'dan başlayarak devam eder!\n",
    "print(example_tuple[2])"
   ]
  },
  {
   "attachments": {},
   "cell_type": "markdown",
   "metadata": {},
   "source": [
    "Peki ya birden fazla elemanı almak istersem?\n",
    "- İşte o zaman verinin o kısmını ayırmam lazım.\n",
    "\n",
    "Python Slicing:\n",
    "\n",
    "```python\n",
    "# Slicing Yapısı\n",
    "ayrılacak_değişkenin_ismi[başlangıç_index : bitiş_index : atlama_sayısı] \n",
    "```\n",
    "> **Önemli Not:** İndex sayıları belirtilirken başlangıç_index olarak belirttiğimiz index dahil edilirken, bitiş_index dahil edilmez!"
   ]
  },
  {
   "cell_type": "code",
   "execution_count": 44,
   "metadata": {},
   "outputs": [
    {
     "name": "stdout",
     "output_type": "stream",
     "text": [
      "(2, 'bob', 19)\n"
     ]
    }
   ],
   "source": [
    "# Sadece 3 adet index aldığımızı unutmayın; 1, 2, 3 numaralı indexler\n",
    "print(example_tuple[1:4]) "
   ]
  },
  {
   "cell_type": "code",
   "execution_count": 45,
   "metadata": {},
   "outputs": [
    {
     "name": "stdout",
     "output_type": "stream",
     "text": [
      "(1, 'bob', 'eleventeen')\n"
     ]
    }
   ],
   "source": [
    "# Eğer başlangıç index değeri boşsa ilk index (yani 0), eğer bitiş index değeri boşsa son index değeri alınır.\n",
    "print(example_tuple[::2])"
   ]
  },
  {
   "cell_type": "code",
   "execution_count": 46,
   "metadata": {},
   "outputs": [
    {
     "name": "stdout",
     "output_type": "stream",
     "text": [
      "('eleventeen', 37)\n",
      "37\n"
     ]
    }
   ],
   "source": [
    "#Ya sondan 1, 2 index değeri almak istesem?\n",
    "print(example_tuple[-2:])\n",
    "print(example_tuple[-1])"
   ]
  },
  {
   "cell_type": "code",
   "execution_count": 47,
   "metadata": {},
   "outputs": [],
   "source": [
    "# Example_tuple değişkenin 1. indexsindeki değeri \"7\" ile değiştirmek istiyorum.\n",
    "# example_tuple[1] = 7"
   ]
  },
  {
   "cell_type": "markdown",
   "metadata": {},
   "source": [
    "Hayır... Tuple'lar bunu yapmaz. Bu bizi tuple veri tiplerinin en temel özelliği olan **değiştirilemezlik** fikriyle tanıştırır. Demek ki Tuple'lar sahip oldukları elemanların değiştirilmesine izin vermiyor. Bu hem bir lütuf hem de bir lanet: \n",
    "> **Nimet:** Elimde bir kullanıcının değiştirmesini istemediğim verilerim varsa, onu bir Tuple veri tipi yapısı içerisine koyabilirim ve böylece verimin güvenliğini sağlamış olurum.\n",
    "\n",
    "> **Lanet:** Ancak kendi verilerimi değiştiremiyorum ve değiştirmek istiyorum. Tuple veri tipleri benim bu ihtiyacımı karşılayamıyor.\n",
    "\n",
    "Tuple'lar genellikle verilerle çalışmak için harika bir seçimdir. Ancak, ihtiyaç duyabileceğimiz kadar esnek değiller. Bu durumla karşılaştığımızda başka veri tipleriyle çalışmamız gerekiyor..."
   ]
  },
  {
   "attachments": {},
   "cell_type": "markdown",
   "metadata": {},
   "source": [
    "## Setler (Sets)"
   ]
  },
  {
   "attachments": {},
   "cell_type": "markdown",
   "metadata": {},
   "source": [
    "Setler Python'da kullanılan başka bir veri tipidir ancak tuplelarda ya da listelerde yapılan bazı işlemlerin yapılmasına izin vermezler. Peki nedir bu işlemler?\n",
    "\n",
    "> **Önemli Not:** Setlerin küme parantezleri ile gösterildiğine dikkat edin!"
   ]
  },
  {
   "cell_type": "code",
   "execution_count": 48,
   "metadata": {},
   "outputs": [
    {
     "name": "stdout",
     "output_type": "stream",
     "text": [
      "{0, 1, 2, 5, 6, 8}\n"
     ]
    }
   ],
   "source": [
    "list_to_be_made_a_set = [1,1,1,1,5,2,6,8,0]\n",
    "set_from_list = set(list_to_be_made_a_set)\n",
    "print(set_from_list)"
   ]
  },
  {
   "cell_type": "code",
   "execution_count": 49,
   "metadata": {},
   "outputs": [
    {
     "name": "stdout",
     "output_type": "stream",
     "text": [
      "{0, 1, 2, 3, 4}\n"
     ]
    }
   ],
   "source": [
    "set_A = {0,1,3,3,3,2,3,4}\n",
    "set_from_list = set(set_A)\n",
    "print(set_from_list)"
   ]
  },
  {
   "attachments": {},
   "cell_type": "markdown",
   "metadata": {},
   "source": [
    "## Sözlükler (Dictionaries)"
   ]
  },
  {
   "cell_type": "markdown",
   "metadata": {},
   "source": [
    "Şu anda işlememiz gereken son ana veri tipimiz sözlüklerdir. Sözlükler şu ana kadar öğrendiğimiz veri tiplerinden farklı olarak  \"gruplara\" sahip olmamızı sağlar, ancak indexe göre çalışmak yerine **Key/Value (Anahtar/Değer)** çiftlerini kullanılırlar. Bunun bazı önemli faydaları var, ancak öncesinde nasıl çalıştığını görelim.\n",
    "\n",
    "> **Önemli Not:** Sözlükler de küme parantezleriyle gösterilir, ancak bir set olarak algılanmamaları için **Key ve Value** değerlerinden oluşması gerekir."
   ]
  },
  {
   "cell_type": "code",
   "execution_count": 50,
   "metadata": {},
   "outputs": [
    {
     "name": "stdout",
     "output_type": "stream",
     "text": [
      "8\n"
     ]
    }
   ],
   "source": [
    "new_dictionary = {'key_for_this_thing': 8}\n",
    "print(new_dictionary['key_for_this_thing'])"
   ]
  },
  {
   "attachments": {},
   "cell_type": "markdown",
   "metadata": {},
   "source": [
    "Sözlükler, her bir key değerinin içerisinde **birden fazla farklı veri tipi** bulundurabilir."
   ]
  },
  {
   "cell_type": "code",
   "execution_count": 51,
   "metadata": {},
   "outputs": [
    {
     "name": "stdout",
     "output_type": "stream",
     "text": [
      "[0, 1, 2, 3, 4]\n",
      "{'bob': 1}\n",
      "1\n"
     ]
    }
   ],
   "source": [
    "new_dictionary = {'key_for_a_list': [0,1,2,3,4], 'key_for_another_dictionary': {'bob': 1}}\n",
    "print(new_dictionary['key_for_a_list'])\n",
    "print(new_dictionary['key_for_another_dictionary'])\n",
    "print(new_dictionary['key_for_another_dictionary']['bob'])\n",
    "\n"
   ]
  },
  {
   "cell_type": "code",
   "execution_count": 52,
   "metadata": {},
   "outputs": [
    {
     "name": "stdout",
     "output_type": "stream",
     "text": [
      "{1914: ['Red Sox', 5, 10, 0], 1915: ['Red Sox', 43, 104, 4]}\n",
      "['Red Sox', 5, 10, 0]\n"
     ]
    }
   ],
   "source": [
    "career_stats = {'babe_ruth': {1914: [\"Red Sox\", 5, 10, 0], 1915:['Red Sox', 43, 104, 4]},\n",
    "                'gavvy_cravath': {1914: ['Phillies',149,604,14]}}\n",
    "print(career_stats['babe_ruth'])\n",
    "print(career_stats['babe_ruth'][1914])"
   ]
  },
  {
   "cell_type": "code",
   "execution_count": 53,
   "metadata": {},
   "outputs": [
    {
     "data": {
      "text/plain": [
       "{'ad': 'yusuf', 'soyad': 'gzb'}"
      ]
     },
     "execution_count": 53,
     "metadata": {},
     "output_type": "execute_result"
    }
   ],
   "source": [
    "kullanicilar = {\n",
    "    \"ad\":\"yusuf\",\n",
    "    \"soyad\":\"gzb\"\n",
    "}\n",
    "kullanicilar"
   ]
  },
  {
   "cell_type": "code",
   "execution_count": 54,
   "metadata": {},
   "outputs": [
    {
     "data": {
      "text/plain": [
       "'gzb'"
      ]
     },
     "execution_count": 54,
     "metadata": {},
     "output_type": "execute_result"
    }
   ],
   "source": [
    "kullanicilar[\"soyad\"]\n"
   ]
  },
  {
   "cell_type": "code",
   "execution_count": 55,
   "metadata": {},
   "outputs": [
    {
     "data": {
      "text/plain": [
       "{'ad': 'yusuf', 'soyad': 'gzb', 'yas': 24}"
      ]
     },
     "execution_count": 55,
     "metadata": {},
     "output_type": "execute_result"
    }
   ],
   "source": [
    "\n",
    "kullanicilar[\"yas\"]=24\n",
    "kullanicilar"
   ]
  },
  {
   "cell_type": "code",
   "execution_count": 56,
   "metadata": {},
   "outputs": [
    {
     "data": {
      "text/plain": [
       "{1: {'ad': 'yusuf', 'soyad': 'gzb', 'no': 1},\n",
       " 2: {'ad': 'ali', 'soyad': 'gzb', 'no': 2}}"
      ]
     },
     "execution_count": 56,
     "metadata": {},
     "output_type": "execute_result"
    }
   ],
   "source": [
    "ogrenciler = {\n",
    "    1: {\n",
    "        \"ad\":\"yusuf\",\n",
    "        \"soyad\":\"gzb\",\n",
    "        \"no\":1\n",
    "    },\n",
    "    2: {\n",
    "        \"ad\":\"ali\",\n",
    "        \"soyad\":\"gzb\",\n",
    "        \"no\":2\n",
    "    }\n",
    "}\n",
    "ogrenciler"
   ]
  },
  {
   "cell_type": "code",
   "execution_count": 57,
   "metadata": {},
   "outputs": [
    {
     "data": {
      "text/plain": [
       "{'ad': 'yusuf', 'soyad': 'gzb', 'no': 1}"
      ]
     },
     "execution_count": 57,
     "metadata": {},
     "output_type": "execute_result"
    }
   ],
   "source": [
    "sonuc = ogrenciler[1]\n",
    "sonuc"
   ]
  },
  {
   "cell_type": "code",
   "execution_count": 58,
   "metadata": {},
   "outputs": [
    {
     "data": {
      "text/plain": [
       "'yusuf'"
      ]
     },
     "execution_count": 58,
     "metadata": {},
     "output_type": "execute_result"
    }
   ],
   "source": [
    "sonuc = ogrenciler[1][\"ad\"]\n",
    "sonuc"
   ]
  },
  {
   "cell_type": "code",
   "execution_count": 59,
   "metadata": {},
   "outputs": [
    {
     "data": {
      "text/plain": [
       "dict_keys([1, 2])"
      ]
     },
     "execution_count": 59,
     "metadata": {},
     "output_type": "execute_result"
    }
   ],
   "source": [
    "ogrenciler.keys()"
   ]
  },
  {
   "cell_type": "code",
   "execution_count": 60,
   "metadata": {},
   "outputs": [
    {
     "data": {
      "text/plain": [
       "dict_values([{'ad': 'yusuf', 'soyad': 'gzb', 'no': 1}, {'ad': 'ali', 'soyad': 'gzb', 'no': 2}])"
      ]
     },
     "execution_count": 60,
     "metadata": {},
     "output_type": "execute_result"
    }
   ],
   "source": [
    "ogrenciler.values()"
   ]
  },
  {
   "cell_type": "code",
   "execution_count": 61,
   "metadata": {},
   "outputs": [
    {
     "data": {
      "text/plain": [
       "dict_keys(['ad', 'soyad', 'no'])"
      ]
     },
     "execution_count": 61,
     "metadata": {},
     "output_type": "execute_result"
    }
   ],
   "source": [
    "ogrenciler[1].keys()"
   ]
  },
  {
   "cell_type": "code",
   "execution_count": 62,
   "metadata": {},
   "outputs": [
    {
     "data": {
      "text/plain": [
       "dict_values(['yusuf', 'gzb', 1])"
      ]
     },
     "execution_count": 62,
     "metadata": {},
     "output_type": "execute_result"
    }
   ],
   "source": [
    "ogrenciler[1].values()"
   ]
  },
  {
   "attachments": {},
   "cell_type": "markdown",
   "metadata": {},
   "source": [
    "## Koşullu İfadeler (If / Elif / Else)"
   ]
  },
  {
   "attachments": {},
   "cell_type": "markdown",
   "metadata": {},
   "source": [
    "Gerçek hayatta, genellikle etrafımızdaki bilgileri değerlendirmeli ve ardından gözlemlediklerimize göre bir hareket tarzı seçmeliyiz.\n",
    "\n",
    "- Hava güzelse dışarı çıkacağım. (Hava güzel değilse dışarı çıkmayacağım anlamına gelir.) \n",
    "\n",
    "Python'da `if` yapısı bu tür karar verme seçeneklerini yönetmek için kullanılırız. Belirtilen durumun gerçekleşmesi durumunda bu yöntemi izle, gerçekleşmediği durumlarda ise şu yöntemi izle mantığı vardır."
   ]
  },
  {
   "cell_type": "code",
   "execution_count": 63,
   "metadata": {},
   "outputs": [
    {
     "name": "stdout",
     "output_type": "stream",
     "text": [
      "3 is bigger\n",
      "3 is not bigger\n"
     ]
    }
   ],
   "source": [
    "if 5 > 4:\n",
    "    print(\"3 is bigger\")\n",
    "print(\"3 is not bigger\")"
   ]
  },
  {
   "attachments": {},
   "cell_type": "markdown",
   "metadata": {},
   "source": [
    "## 2.ders"
   ]
  },
  {
   "attachments": {},
   "cell_type": "markdown",
   "metadata": {},
   "source": [
    "* Karşılaştırma Operatörleri"
   ]
  },
  {
   "cell_type": "code",
   "execution_count": 64,
   "metadata": {},
   "outputs": [
    {
     "name": "stdout",
     "output_type": "stream",
     "text": [
      "False\n",
      "True\n",
      "False\n",
      "True\n",
      "True\n",
      "False\n",
      "----------------------------\n",
      "4\n",
      "False\n",
      "True\n",
      "True\n",
      "False\n",
      "False\n",
      "True\n"
     ]
    }
   ],
   "source": [
    "a=1\n",
    "b=2\n",
    "c=3\n",
    "\n",
    "sonuc = (a == b)\n",
    "print(sonuc)\n",
    "\n",
    "sonuc = (a != b)\n",
    "print(sonuc)\n",
    "\n",
    "sonuc = (a > b)\n",
    "print(sonuc)\n",
    "\n",
    "sonuc = (a < b)\n",
    "print(sonuc)\n",
    "\n",
    "sonuc = (a <= b)\n",
    "print(sonuc)\n",
    "\n",
    "sonuc = (a >= b)\n",
    "print(sonuc)\n",
    "print(\"----------------------------\")\n",
    "a +=c # a = a+c\n",
    "print(a)\n",
    "\n",
    "sonuc = (a == b)\n",
    "print(sonuc)\n",
    "\n",
    "sonuc = (a != b)\n",
    "print(sonuc)\n",
    "\n",
    "sonuc = (a > b)\n",
    "print(sonuc)\n",
    "\n",
    "sonuc = (a < b)\n",
    "print(sonuc)\n",
    "\n",
    "sonuc = (a <= b)\n",
    "print(sonuc)\n",
    "\n",
    "sonuc = (a >= b)\n",
    "print(sonuc)\n"
   ]
  },
  {
   "attachments": {},
   "cell_type": "markdown",
   "metadata": {},
   "source": [
    "* Mantıksal Operatörler"
   ]
  },
  {
   "cell_type": "code",
   "execution_count": 65,
   "metadata": {},
   "outputs": [
    {
     "name": "stdout",
     "output_type": "stream",
     "text": [
      "False\n",
      "True\n",
      "True\n",
      "False\n"
     ]
    }
   ],
   "source": [
    "# and, or, not\n",
    "a=1\n",
    "b=2\n",
    "c=3\n",
    "d=4\n",
    "sonuc = (a == b) and (a != b)\n",
    "print(sonuc)\n",
    "\n",
    "sonuc = (a <= b) and (a != b)\n",
    "print(sonuc)\n",
    "\n",
    "sonuc = (a == b) or (a != b)\n",
    "print(sonuc)\n",
    "\n",
    "sonuc = (a == b) or (a >= b)\n",
    "print(sonuc)\n",
    "\n"
   ]
  },
  {
   "cell_type": "code",
   "execution_count": 66,
   "metadata": {},
   "outputs": [
    {
     "name": "stdout",
     "output_type": "stream",
     "text": [
      "a is bigger than b AND b is bigger than c\n"
     ]
    }
   ],
   "source": [
    "# 2'den fazla koşul belirtmek de mümkündür\n",
    "a = 30\n",
    "b = 20 \n",
    "c = 10\n",
    "if a > b and b > c:\n",
    "    print(\"a is bigger than b AND b is bigger than c\")\n",
    "elif a < b and b < c:\n",
    "    print(\"a is smaller than b AND b is smaller than c\")\n",
    "else:\n",
    "    print(\"These conditions did not hold\")"
   ]
  },
  {
   "cell_type": "code",
   "execution_count": 67,
   "metadata": {},
   "outputs": [
    {
     "name": "stdout",
     "output_type": "stream",
     "text": [
      "Yes!\n"
     ]
    }
   ],
   "source": [
    "number_list = [10,20,30,40,50]\n",
    "if 10 in number_list:\n",
    "    print(\"Yes!\")"
   ]
  },
  {
   "cell_type": "code",
   "execution_count": 68,
   "metadata": {},
   "outputs": [
    {
     "name": "stdout",
     "output_type": "stream",
     "text": [
      "kullanıcı adı yada şifre hatalı\n"
     ]
    }
   ],
   "source": [
    "kullanici_adi = \"yusuf\"\n",
    "sifre = \"12343\"\n",
    "\n",
    "if (kullanici_adi == \"yusuf\"):\n",
    "    if (sifre == \"1234\"):\n",
    "        print(\"hoşgeldiniz\")\n",
    "    else:\n",
    "        print(\"kullanıcı adı yada şifre hatalı\")\n",
    "else :\n",
    "    print(\"böyle bir kullanıcı yok\")"
   ]
  },
  {
   "cell_type": "code",
   "execution_count": 69,
   "metadata": {},
   "outputs": [
    {
     "name": "stdout",
     "output_type": "stream",
     "text": [
      "ortalama notunuz  5\n"
     ]
    }
   ],
   "source": [
    "# sinav1= int(input(\"sınavı1 girin: \"))\n",
    "# sinav2= int(input(\"sınavı2 girin: \"))\n",
    "sinav1 = 94\n",
    "sinav2 = 34\n",
    "ortalama = (sinav1 + sinav2)/2\n",
    "\n",
    "ortalama = ((sinav1 * 0.6) + (sinav2 * 0.4))\n",
    "\n",
    "\n",
    "if(ortalama >=0) and  (ortalama < 25):\n",
    "    print(\"ortalama notunuz \",1)\n",
    "elif(ortalama >=25) and  (ortalama < 45):\n",
    "    print(\"ortalama notunuz \",2)\n",
    "elif(ortalama >=45) and  (ortalama < 55):\n",
    "    print(\"ortalama notunuz \",3)\n",
    "elif(ortalama >=55) and  (ortalama < 70):\n",
    "    print(\"ortalama notunuz \",4)\n",
    "elif(ortalama >=70) and  (ortalama <= 100):\n",
    "    print(\"ortalama notunuz \",5)\n",
    "else:\n",
    "    print(\"hatalı karakter girdini\")"
   ]
  },
  {
   "attachments": {},
   "cell_type": "markdown",
   "metadata": {},
   "source": [
    "## Döngüler (For / While)"
   ]
  },
  {
   "attachments": {},
   "cell_type": "markdown",
   "metadata": {},
   "source": [
    "Döngü, aynı kod bloğunun potansiyel olarak birçok kez tekrar tekrar yürütülmesi anlamına gelir. Python'da döngü kurabileceğimiz 2 temel yapı vardır:\n",
    "\n",
    "- **For** & **While** Döngüleri. \n",
    "\n",
    "Ancak veri biliminde yapılan çalışmalarda genellikle **for döngüleri** çok daha yaygın bir şekilde kullanılırlar."
   ]
  },
  {
   "cell_type": "code",
   "execution_count": 70,
   "metadata": {},
   "outputs": [
    {
     "name": "stdout",
     "output_type": "stream",
     "text": [
      "1\n",
      "2\n",
      "3\n",
      "4\n",
      "5\n",
      "6\n",
      "7\n",
      "8\n",
      "9\n",
      "10\n"
     ]
    }
   ],
   "source": [
    "for i in range(1, 11):\n",
    "    print(i)"
   ]
  },
  {
   "cell_type": "code",
   "execution_count": 71,
   "metadata": {},
   "outputs": [
    {
     "name": "stdout",
     "output_type": "stream",
     "text": [
      "elma\n",
      "armut\n",
      "çilek\n",
      "kiraz\n"
     ]
    }
   ],
   "source": [
    "liste = [\"elma\", \"armut\", \"çilek\", \"kiraz\"]\n",
    "for meyve in liste:\n",
    "    print(meyve)\n"
   ]
  },
  {
   "cell_type": "code",
   "execution_count": 72,
   "metadata": {},
   "outputs": [
    {
     "name": "stdout",
     "output_type": "stream",
     "text": [
      "M\n",
      "e\n",
      "r\n",
      "h\n",
      "a\n",
      "b\n",
      "a\n",
      ",\n",
      " \n",
      "D\n",
      "ü\n",
      "n\n",
      "y\n",
      "a\n",
      "!\n"
     ]
    }
   ],
   "source": [
    "metin = \"Merhaba, Dünya!\"\n",
    "for karakter in metin:\n",
    "    print(karakter)\n"
   ]
  },
  {
   "cell_type": "code",
   "execution_count": 73,
   "metadata": {},
   "outputs": [
    {
     "name": "stdout",
     "output_type": "stream",
     "text": [
      "('kitap', 'book')\n",
      "('bilgisayar', 'computer')\n",
      "('telefon', 'phone')\n"
     ]
    }
   ],
   "source": [
    "sozluk = {\"kitap\": \"book\", \"bilgisayar\": \"computer\", \"telefon\": \"phone\"}\n",
    "for hepsi in sozluk.items():\n",
    "    print(hepsi)\n"
   ]
  },
  {
   "cell_type": "code",
   "execution_count": 74,
   "metadata": {},
   "outputs": [
    {
     "name": "stdout",
     "output_type": "stream",
     "text": [
      "kitap : book\n",
      "bilgisayar : computer\n",
      "telefon : phone\n"
     ]
    }
   ],
   "source": [
    "sozluk = {\"kitap\": \"book\", \"bilgisayar\": \"computer\", \"telefon\": \"phone\"}\n",
    "for anahtar, deger in sozluk.items():\n",
    "    print(anahtar, \":\", deger)\n"
   ]
  },
  {
   "cell_type": "code",
   "execution_count": 75,
   "metadata": {},
   "outputs": [
    {
     "name": "stdout",
     "output_type": "stream",
     "text": [
      "3\n",
      "5\n"
     ]
    }
   ],
   "source": [
    "liste1 = [1, 2, 3, 4, 5]\n",
    "liste2 = [3, 5, 7, 9, 11]\n",
    "\n",
    "for eleman1 in liste1:\n",
    "    for eleman2 in liste2:\n",
    "        if eleman1 == eleman2:\n",
    "            print(eleman1)"
   ]
  },
  {
   "cell_type": "code",
   "execution_count": 76,
   "metadata": {},
   "outputs": [
    {
     "name": "stdout",
     "output_type": "stream",
     "text": [
      "16.666666666666668\n",
      "33.333333333333336\n",
      "50.0\n",
      "66.66666666666667\n",
      "83.33333333333333\n"
     ]
    }
   ],
   "source": [
    "for number in number_list:\n",
    "    new_number = number * 5 / 3\n",
    "    print(new_number)"
   ]
  },
  {
   "cell_type": "code",
   "execution_count": 77,
   "metadata": {},
   "outputs": [
    {
     "name": "stdout",
     "output_type": "stream",
     "text": [
      "a : 1\n",
      "b : 2\n",
      "c : 3\n"
     ]
    }
   ],
   "source": [
    "degerler= {\n",
    "    \"a\":1,\n",
    "    \"b\":2,\n",
    "    \"c\":3\n",
    "}\n",
    "\n",
    "for anahtar, deger in degerler.items():\n",
    "    print(anahtar, \":\", deger)"
   ]
  },
  {
   "cell_type": "code",
   "execution_count": 78,
   "metadata": {},
   "outputs": [
    {
     "name": "stdout",
     "output_type": "stream",
     "text": [
      "0\n",
      "2\n",
      "4\n",
      "6\n",
      "8\n"
     ]
    }
   ],
   "source": [
    "x = 0\n",
    "while x < 10:\n",
    "    print(x)\n",
    "    x += 1\n",
    "    x = x + 1"
   ]
  },
  {
   "cell_type": "code",
   "execution_count": 79,
   "metadata": {},
   "outputs": [
    {
     "name": "stdout",
     "output_type": "stream",
     "text": [
      "elma\n",
      "armut\n",
      "çilek\n",
      "kiraz\n"
     ]
    }
   ],
   "source": [
    "liste = [\"elma\", \"armut\", \"çilek\", \"kiraz\"]\n",
    "i = 0\n",
    "while i < len(liste):\n",
    "    print(liste[i])\n",
    "    i += 1"
   ]
  },
  {
   "cell_type": "code",
   "execution_count": 80,
   "metadata": {},
   "outputs": [
    {
     "name": "stdout",
     "output_type": "stream",
     "text": [
      "kitap : book\n",
      "bilgisayar : computer\n",
      "telefon : phone\n"
     ]
    }
   ],
   "source": [
    "sozluk = {\"kitap\": \"book\", \"bilgisayar\": \"computer\", \"telefon\": \"phone\"}\n",
    "anahtarlar = list(sozluk.keys())\n",
    "degerler = list(sozluk.values())\n",
    "i = 0\n",
    "while i < len(anahtarlar):\n",
    "    print(anahtarlar[i], \":\", degerler[i])\n",
    "    i += 1\n"
   ]
  },
  {
   "cell_type": "code",
   "execution_count": 81,
   "metadata": {},
   "outputs": [
    {
     "name": "stdout",
     "output_type": "stream",
     "text": [
      "23\n",
      "Tebrikler! Sayı 23 idi.\n"
     ]
    }
   ],
   "source": [
    "import random\n",
    "\n",
    "sayi = random.randint(1, 100)\n",
    "tahmin = 0\n",
    "print(sayi)\n",
    "while tahmin != sayi:\n",
    "    #tahmin = int(input(\"Tahmininizi girin: \"))\n",
    "    \n",
    "    tahmin = sayi\n",
    "    \n",
    "    if tahmin < sayi:\n",
    "        print(\"Daha yüksek bir sayı tahmin edin.\")\n",
    "    elif tahmin > sayi:\n",
    "        print(\"Daha düşük bir sayı tahmin edin.\")\n",
    "print(\"Tebrikler! Sayı\", sayi, \"idi.\")\n"
   ]
  },
  {
   "cell_type": "code",
   "execution_count": 106,
   "metadata": {},
   "outputs": [
    {
     "name": "stdout",
     "output_type": "stream",
     "text": [
      "1\n",
      "2\n",
      "3\n",
      "4\n",
      "5\n"
     ]
    }
   ],
   "source": [
    "# Bir listenin elemanlarını tek tek kontrol edip, \n",
    "# eğer bir eleman 5'ten büyükse döngüyü durdurmak için break kullanabilirsiniz:\n",
    "liste = [1, 2, 3, 4, 5, 6, 7, 8, 9, 10]\n",
    "for eleman in liste:\n",
    "    if eleman > 5:\n",
    "        break\n",
    "    print(eleman)\n"
   ]
  },
  {
   "cell_type": "code",
   "execution_count": 107,
   "metadata": {},
   "outputs": [
    {
     "name": "stdout",
     "output_type": "stream",
     "text": [
      "1\n",
      "3\n",
      "5\n",
      "7\n",
      "9\n"
     ]
    }
   ],
   "source": [
    "# Bir liste içindeki çift sayıları atlayarak sadece tek sayıları yazdırmak için continue kullanabilirsiniz:\n",
    "liste = [1, 2, 3, 4, 5, 6, 7, 8, 9, 10]\n",
    "for eleman in liste:\n",
    "    if eleman % 2 == 0:\n",
    "        continue\n",
    "    print(eleman)\n"
   ]
  },
  {
   "cell_type": "code",
   "execution_count": 108,
   "metadata": {},
   "outputs": [],
   "source": [
    "while True:\n",
    "    cevap = input(\"İşleme devam etmek istiyor musunuz? (E/H)\")\n",
    "    if cevap.lower() == \"h\":\n",
    "        break\n",
    "    elif cevap.lower() != \"e\":\n",
    "        print(\"Lütfen geçerli bir cevap verin.\")\n",
    "        continue\n",
    "    print(\"İşleme devam ediliyor...\")\n"
   ]
  },
  {
   "cell_type": "code",
   "execution_count": 82,
   "metadata": {},
   "outputs": [],
   "source": [
    "# ogr_sayi = int(input(\"öğrenci sayısını girin: \"))\n",
    "# sayac = 1\n",
    "# ogrenci_liste= []\n",
    "# ogrenci_bilgi = {}\n",
    "\n",
    "# while ogr_sayi >= sayac:\n",
    "\n",
    "#     ad = str(input(\"ad: \"))\n",
    "#     ogrenci_bilgi[\"ad\"] = ad\n",
    "\n",
    "#     soyad = str(input(\"soyad: \"))\n",
    "#     ogrenci_bilgi[\"soyad\"] = soyad\n",
    " \n",
    "#     ortalama = str(input(\"ortalama: \"))\n",
    "#     ogrenci_bilgi[\"ortalama\"] = ortalama\n",
    "\n",
    "#     ogrenci_liste.append(ogrenci_bilgi.copy())\n",
    "\n",
    "#     ogrenci_bilgi.clear()\n",
    "#     sayac= sayac + 1\n",
    "\n",
    "\n",
    "# print(ogrenci_liste)"
   ]
  },
  {
   "attachments": {},
   "cell_type": "markdown",
   "metadata": {},
   "source": [
    "## Fonksiyonlar - Yazılanları Sürekli Tekrar Etmeme Sanatı\n",
    "Eğer bir gün kendini önceden yazdıklarını kopyala-yapıştır yaparken yakalarsan, hayır bunu yapma...\n",
    "\n",
    "Önceden yazdığımız kodlar hiç bir zaman kopyala-yapıştır yapılmamalı. Peki ben önceden yaptığım bir işlemi, şu anda çalıştığım satıra nasıl taşıyacağım? \n",
    "> İşte bunun çözümü fonksiyonlar oluşturmak.\n",
    "\n",
    "Diyelim ki satış kaydından bir kullanıcınin verilerini almak ve o tabloda bir kullanıcıyı kaç kez gördüğümü takip etmek istediğim bir grup veriyi işliyorum."
   ]
  },
  {
   "cell_type": "code",
   "execution_count": 98,
   "metadata": {},
   "outputs": [
    {
     "name": "stdout",
     "output_type": "stream",
     "text": [
      "hoş geldiniz\n"
     ]
    }
   ],
   "source": [
    "def merhaba():\n",
    "    print(\"hoş geldiniz\")\n",
    "merhaba()"
   ]
  },
  {
   "cell_type": "code",
   "execution_count": 101,
   "metadata": {},
   "outputs": [
    {
     "name": "stdout",
     "output_type": "stream",
     "text": [
      "hoş geldin  Yusuf\n"
     ]
    }
   ],
   "source": [
    "def merhaba(isim):\n",
    "    print(\"hoş geldin \",isim)\n",
    "# merhaba()\n",
    "merhaba(isim=\"Yusuf\")"
   ]
  },
  {
   "cell_type": "code",
   "execution_count": 102,
   "metadata": {},
   "outputs": [
    {
     "name": "stdout",
     "output_type": "stream",
     "text": [
      "hoş geldin  ali\n"
     ]
    }
   ],
   "source": [
    "def merhaba(isim=\"ali\"):\n",
    "    print(\"hoş geldin \",isim)\n",
    "merhaba()"
   ]
  },
  {
   "cell_type": "code",
   "execution_count": 105,
   "metadata": {},
   "outputs": [
    {
     "name": "stdout",
     "output_type": "stream",
     "text": [
      "hoş geldin  yusuf   gzb\n"
     ]
    }
   ],
   "source": [
    "def merhaba(*,isim=\"ali\",soyisim):\n",
    "    print(\"hoş geldin \",isim,\" \",soyisim)\n",
    "merhaba(isim=\"yusuf\",soyisim=\"gzb\")"
   ]
  },
  {
   "cell_type": "code",
   "execution_count": 83,
   "metadata": {},
   "outputs": [
    {
     "data": {
      "text/plain": [
       "10"
      ]
     },
     "execution_count": 83,
     "metadata": {},
     "output_type": "execute_result"
    }
   ],
   "source": [
    "# Basit bir toplama işlemi yapan fonksiyon:\n",
    "def topla(a, b):\n",
    "    return a + b\n",
    "topla(4,6)"
   ]
  },
  {
   "cell_type": "code",
   "execution_count": 84,
   "metadata": {},
   "outputs": [
    {
     "data": {
      "text/plain": [
       "24"
      ]
     },
     "execution_count": 84,
     "metadata": {},
     "output_type": "execute_result"
    }
   ],
   "source": [
    "# Kullanıcının girdiği sayının faktöriyelini hesaplayan fonksiyon:\n",
    "\n",
    "def faktoriyel(n):\n",
    "    if n == 0:\n",
    "        return 1\n",
    "    else:\n",
    "        return n * faktoriyel(n-1)\n",
    "faktoriyel(4)"
   ]
  },
  {
   "cell_type": "code",
   "execution_count": 85,
   "metadata": {},
   "outputs": [
    {
     "data": {
      "text/plain": [
       "967"
      ]
     },
     "execution_count": 85,
     "metadata": {},
     "output_type": "execute_result"
    }
   ],
   "source": [
    "# Verilen bir listenin en büyük elemanını bulan fonksiyon:\n",
    "a = [1,2,3,4,5,6,7,8,967,24,32,-1]\n",
    "def en_buyuk(liste):\n",
    "    en_buyuk_eleman = liste[0]\n",
    "    for eleman in liste:\n",
    "        if eleman > en_buyuk_eleman:\n",
    "            en_buyuk_eleman = eleman\n",
    "    return en_buyuk_eleman\n",
    "en_buyuk(a)"
   ]
  },
  {
   "cell_type": "code",
   "execution_count": 86,
   "metadata": {},
   "outputs": [
    {
     "data": {
      "text/plain": [
       "'işlkjhgfdsa'"
      ]
     },
     "execution_count": 86,
     "metadata": {},
     "output_type": "execute_result"
    }
   ],
   "source": [
    "# Verilen bir kelimeyi tersten yazdıran fonksiyon:\n",
    "yazi = \"asdfghjklşi\"\n",
    "def ters_yaz(kelime):\n",
    "    return kelime[::-1]\n",
    "ters_yaz(yazi)"
   ]
  },
  {
   "cell_type": "code",
   "execution_count": 87,
   "metadata": {},
   "outputs": [
    {
     "data": {
      "text/plain": [
       "{'b': 1,\n",
       " 'u': 4,\n",
       " 'r': 2,\n",
       " 'a': 1,\n",
       " 's': 3,\n",
       " 'ı': 1,\n",
       " ' ': 2,\n",
       " 'f': 1,\n",
       " 'o': 3,\n",
       " 'n': 3,\n",
       " 'k': 2,\n",
       " 'i': 1,\n",
       " 'y': 1,\n",
       " 'd': 1}"
      ]
     },
     "execution_count": 87,
     "metadata": {},
     "output_type": "execute_result"
    }
   ],
   "source": [
    "# Verilen bir metindeki harflerin sayısını hesaplayan fonksiyon:\n",
    "\n",
    "def harf_sayisi(metin):\n",
    "    harf_sozlugu = {}\n",
    "    for harf in metin:\n",
    "        if harf in harf_sozlugu:\n",
    "            harf_sozlugu[harf] += 1\n",
    "        else:\n",
    "            harf_sozlugu[harf] = 1\n",
    "    return harf_sozlugu\n",
    "metin = \"burası fonskiyon konusudur\"\n",
    "harf_sayisi(metin=metin)"
   ]
  },
  {
   "cell_type": "code",
   "execution_count": 88,
   "metadata": {},
   "outputs": [
    {
     "data": {
      "text/plain": [
       "['g', 'h', 'a', 'ş', 'l', 'i', 's', 'd', 'k', 'f', 'j']"
      ]
     },
     "execution_count": 88,
     "metadata": {},
     "output_type": "execute_result"
    }
   ],
   "source": [
    "# Verilen bir listedeki elemanları tekrarsız şekilde döndüren fonksiyon:\n",
    "yazi = \"asdfghjklşi\"\n",
    "\n",
    "def tekrarsiz(liste):\n",
    "    return list(set(liste))\n",
    "tekrarsiz(yazi)"
   ]
  },
  {
   "attachments": {},
   "cell_type": "markdown",
   "metadata": {},
   "source": [
    "* Lambda Fonksiyonu ve Sıralama İşlemleri"
   ]
  },
  {
   "cell_type": "code",
   "execution_count": 93,
   "metadata": {},
   "outputs": [
    {
     "name": "stdout",
     "output_type": "stream",
     "text": [
      "6\n"
     ]
    }
   ],
   "source": [
    "def iki_carp(a):\n",
    "    return a*2\n",
    "\n",
    "iki_carp_lambda = ((lambda a: a*2))\n",
    "print(iki_carp_lambda(3))"
   ]
  },
  {
   "cell_type": "code",
   "execution_count": 94,
   "metadata": {},
   "outputs": [
    {
     "name": "stdout",
     "output_type": "stream",
     "text": [
      "mileriveç rset eli admal intem uB\n"
     ]
    }
   ],
   "source": [
    "test_cevir = lambda cevir: cevir[::-1]\n",
    "print(test_cevir(\"Bu metni lamda ile tesr çevirelim\"))"
   ]
  },
  {
   "attachments": {},
   "cell_type": "markdown",
   "metadata": {},
   "source": [
    "### try-except"
   ]
  },
  {
   "cell_type": "code",
   "execution_count": 110,
   "metadata": {},
   "outputs": [
    {
     "name": "stdout",
     "output_type": "stream",
     "text": [
      "Girdiğiniz sayı: 4\n"
     ]
    }
   ],
   "source": [
    "while True:\n",
    "    try:\n",
    "        sayi = int(input(\"Lütfen bir sayı girin: \"))\n",
    "        break\n",
    "    except ValueError:\n",
    "        print(\"Lütfen geçerli bir sayı girin.\")\n",
    "print(\"Girdiğiniz sayı:\", sayi)\n"
   ]
  },
  {
   "cell_type": "code",
   "execution_count": 109,
   "metadata": {},
   "outputs": [
    {
     "name": "stdout",
     "output_type": "stream",
     "text": [
      "1\n",
      "4\n",
      "9\n",
      "16\n",
      "25\n",
      "Lütfen sayısal bir değer girin.\n",
      "49\n",
      "64\n",
      "81\n",
      "100\n"
     ]
    }
   ],
   "source": [
    "liste = [1, 2, 3, 4, 5, \"6\", 7, 8, 9, 10]\n",
    "for eleman in liste:\n",
    "    try:\n",
    "        print(eleman ** 2)\n",
    "    except TypeError:\n",
    "        print(\"Lütfen sayısal bir değer girin.\")\n"
   ]
  },
  {
   "attachments": {},
   "cell_type": "markdown",
   "metadata": {},
   "source": [
    "## DB işlemleri Sqlite"
   ]
  },
  {
   "cell_type": "code",
   "execution_count": 1,
   "metadata": {},
   "outputs": [],
   "source": [
    "import sqlite3\n"
   ]
  },
  {
   "cell_type": "code",
   "execution_count": 2,
   "metadata": {},
   "outputs": [],
   "source": [
    "conn = sqlite3.connect('example.db')\n"
   ]
  },
  {
   "cell_type": "code",
   "execution_count": 3,
   "metadata": {},
   "outputs": [
    {
     "data": {
      "text/plain": [
       "<sqlite3.Cursor at 0x21d736a30c0>"
      ]
     },
     "execution_count": 3,
     "metadata": {},
     "output_type": "execute_result"
    }
   ],
   "source": [
    "conn.execute('''CREATE TABLE IF NOT EXISTS users\n",
    "             (id INTEGER PRIMARY KEY,\n",
    "              name TEXT,\n",
    "              email TEXT,\n",
    "              phone TEXT)''')\n"
   ]
  },
  {
   "cell_type": "code",
   "execution_count": 4,
   "metadata": {},
   "outputs": [],
   "source": [
    "conn.execute(\"INSERT INTO users (name, email, phone) VALUES (?, ?, ?)\",\n",
    "             ('John Doe', 'john.doe@example.com', '555-1234'))\n",
    "conn.execute(\"INSERT INTO users (name, email, phone) VALUES (?, ?, ?)\",\n",
    "             ('Jane Doe', 'jane.doe@example.com', '555-5678'))\n",
    "conn.commit()\n"
   ]
  },
  {
   "cell_type": "code",
   "execution_count": 5,
   "metadata": {},
   "outputs": [
    {
     "name": "stdout",
     "output_type": "stream",
     "text": [
      "ID: 1\n",
      "Name: John Doe\n",
      "Email: john.doe@example.com\n",
      "Phone: 555-4321\n",
      "ID: 2\n",
      "Name: John Doe\n",
      "Email: john.doe@example.com\n",
      "Phone: 555-4321\n",
      "ID: 3\n",
      "Name: John Doe\n",
      "Email: john.doe@example.com\n",
      "Phone: 555-4321\n",
      "ID: 4\n",
      "Name: John Doe\n",
      "Email: john.doe@example.com\n",
      "Phone: 555-1234\n",
      "ID: 5\n",
      "Name: Jane Doe\n",
      "Email: jane.doe@example.com\n",
      "Phone: 555-5678\n"
     ]
    }
   ],
   "source": [
    "cursor = conn.execute(\"SELECT id, name, email, phone FROM users\")\n",
    "for row in cursor:\n",
    "    print(f\"ID: {row[0]}\")\n",
    "    print(f\"Name: {row[1]}\")\n",
    "    print(f\"Email: {row[2]}\")\n",
    "    print(f\"Phone: {row[3]}\")\n"
   ]
  },
  {
   "cell_type": "code",
   "execution_count": 6,
   "metadata": {},
   "outputs": [],
   "source": [
    "conn.execute(\"UPDATE users SET phone = ? WHERE name = ?\", ('555-4321', 'John Doe'))\n",
    "conn.commit()\n"
   ]
  },
  {
   "cell_type": "code",
   "execution_count": 7,
   "metadata": {},
   "outputs": [],
   "source": [
    "conn.execute(\"DELETE FROM users WHERE name = ?\", ('Jane Doe',))\n",
    "conn.commit()\n"
   ]
  },
  {
   "cell_type": "code",
   "execution_count": 8,
   "metadata": {},
   "outputs": [],
   "source": [
    "conn.close()\n"
   ]
  },
  {
   "attachments": {},
   "cell_type": "markdown",
   "metadata": {},
   "source": [
    "Postgrsql"
   ]
  },
  {
   "cell_type": "code",
   "execution_count": 9,
   "metadata": {},
   "outputs": [
    {
     "name": "stdout",
     "output_type": "stream",
     "text": [
      "Requirement already satisfied: psycopg2 in c:\\users\\yusuf\\appdata\\local\\packages\\pythonsoftwarefoundation.python.3.10_qbz5n2kfra8p0\\localcache\\local-packages\\python310\\site-packages (2.9.5)\n",
      "Note: you may need to restart the kernel to use updated packages.\n"
     ]
    }
   ],
   "source": [
    "pip install psycopg2"
   ]
  },
  {
   "cell_type": "code",
   "execution_count": 10,
   "metadata": {},
   "outputs": [],
   "source": [
    "import psycopg2 \n"
   ]
  },
  {
   "cell_type": "code",
   "execution_count": 11,
   "metadata": {},
   "outputs": [],
   "source": [
    "database_name=\"mydb\"\n",
    "user_name=\"myuser\"\n",
    "password=\"mypassword\"\n",
    "host_ip=\"localhost\"\n",
    "host_port=\"5432\"\n",
    "\n",
    "conn = psycopg2.connect(host=host_ip, database=database_name,\n",
    "                        user=user_name, password=password,port=host_port\n",
    ")\n"
   ]
  },
  {
   "cell_type": "code",
   "execution_count": 12,
   "metadata": {},
   "outputs": [],
   "source": [
    "conn.cursor().execute('''CREATE TABLE IF NOT EXISTS users\n",
    "             (id SERIAL PRIMARY KEY,\n",
    "              name TEXT,\n",
    "              email TEXT,\n",
    "              phone TEXT)''')\n",
    "conn.commit()\n"
   ]
  },
  {
   "cell_type": "code",
   "execution_count": 13,
   "metadata": {},
   "outputs": [],
   "source": [
    "conn.cursor().execute(\"INSERT INTO users (name, email, phone) VALUES (%s, %s, %s)\",\n",
    "             ('Yusuf Gzb', 'yusufgzb@example.com', '555-1234'))\n",
    "conn.cursor().execute(\"INSERT INTO users (name, email, phone) VALUES (%s, %s, %s)\",\n",
    "             ('Mustafa Al', 'Mustafa@example.com', '555-5678'))\n",
    "conn.commit()\n"
   ]
  },
  {
   "cell_type": "code",
   "execution_count": 14,
   "metadata": {},
   "outputs": [
    {
     "name": "stdout",
     "output_type": "stream",
     "text": [
      "ID: 2\n",
      "Name: Mustafa Al\n",
      "Email: Mustafa@example.com\n",
      "Phone: 555-5678\n",
      "ID: 4\n",
      "Name: Mustafa Al\n",
      "Email: Mustafa@example.com\n",
      "Phone: 555-5678\n",
      "ID: 6\n",
      "Name: Mustafa Al\n",
      "Email: Mustafa@example.com\n",
      "Phone: 555-5678\n",
      "ID: 1\n",
      "Name: Yusuf Gzb\n",
      "Email: yusufgzb@example.com\n",
      "Phone: 555-43210\n",
      "ID: 3\n",
      "Name: Yusuf Gzb\n",
      "Email: yusufgzb@example.com\n",
      "Phone: 555-43210\n",
      "ID: 5\n",
      "Name: Yusuf Gzb\n",
      "Email: yusufgzb@example.com\n",
      "Phone: 555-43210\n",
      "ID: 7\n",
      "Name: Yusuf Gzb\n",
      "Email: yusufgzb@example.com\n",
      "Phone: 555-1234\n",
      "ID: 8\n",
      "Name: Mustafa Al\n",
      "Email: Mustafa@example.com\n",
      "Phone: 555-5678\n"
     ]
    }
   ],
   "source": [
    "cursor = conn.cursor()\n",
    "cursor.execute(\"SELECT id, name, email, phone FROM users\")\n",
    "rows = cursor.fetchall()\n",
    "for row in rows:\n",
    "    print(f\"ID: {row[0]}\")\n",
    "    print(f\"Name: {row[1]}\")\n",
    "    print(f\"Email: {row[2]}\")\n",
    "    print(f\"Phone: {row[3]}\")\n"
   ]
  },
  {
   "cell_type": "code",
   "execution_count": 15,
   "metadata": {},
   "outputs": [],
   "source": [
    "conn.cursor().execute(\"UPDATE users SET phone = %s WHERE name = %s\", ('555-43210', 'Yusuf Gzb'))\n",
    "conn.commit()\n"
   ]
  },
  {
   "cell_type": "code",
   "execution_count": 16,
   "metadata": {},
   "outputs": [],
   "source": [
    "conn.cursor().execute(\"DELETE FROM users WHERE name = %s\", ('Jane Doe',))\n",
    "conn.commit()\n"
   ]
  },
  {
   "cell_type": "code",
   "execution_count": 17,
   "metadata": {},
   "outputs": [],
   "source": [
    "conn.close()\n"
   ]
  },
  {
   "cell_type": "code",
   "execution_count": 18,
   "metadata": {},
   "outputs": [
    {
     "data": {
      "text/plain": [
       "[{'il': 'Adana', 'sicaklik': 19.0, 'tarih': '2023-03-10'},\n",
       " {'il': 'Afyonkarahisar', 'sicaklik': 17.0, 'tarih': '2023-03-10'},\n",
       " {'il': 'Nevsehir', 'sicaklik': 17.2, 'tarih': '2023-03-10'},\n",
       " {'il': 'Amasya', 'sicaklik': 19.0, 'tarih': '2023-03-10'},\n",
       " {'il': 'Antalya', 'sicaklik': 17.0, 'tarih': '2023-03-10'},\n",
       " {'il': 'Artvin', 'sicaklik': 16.0, 'tarih': '2023-03-10'},\n",
       " {'il': 'Balikesir', 'sicaklik': 17.0, 'tarih': '2023-03-10'},\n",
       " {'il': 'Batman', 'sicaklik': 18.0, 'tarih': '2023-03-10'},\n",
       " {'il': 'Bilecik', 'sicaklik': 20.0, 'tarih': '2023-03-10'},\n",
       " {'il': 'Burdur', 'sicaklik': 17.0, 'tarih': '2023-03-10'},\n",
       " {'il': 'Bursa', 'sicaklik': 20.0, 'tarih': '2023-03-10'},\n",
       " {'il': 'Canakkale', 'sicaklik': 19.0, 'tarih': '2023-03-10'},\n",
       " {'il': 'Denizli', 'sicaklik': 16.0, 'tarih': '2023-03-10'},\n",
       " {'il': 'Bali', 'sicaklik': 26.2, 'tarih': '2023-03-10'},\n",
       " {'il': 'Edirne', 'sicaklik': 17.6, 'tarih': '2023-03-10'},\n",
       " {'il': 'Elazig', 'sicaklik': 16.0, 'tarih': '2023-03-10'},\n",
       " {'il': 'Gaziantep', 'sicaklik': 16.0, 'tarih': '2023-03-10'},\n",
       " {'il': 'Giresun', 'sicaklik': 16.6, 'tarih': '2023-03-10'},\n",
       " {'il': 'Hatay', 'sicaklik': 18.5, 'tarih': '2023-03-10'},\n",
       " {'il': 'Isparta', 'sicaklik': 17.0, 'tarih': '2023-03-10'},\n",
       " {'il': 'Istanbul', 'sicaklik': 17.0, 'tarih': '2023-03-10'},\n",
       " {'il': 'Izmir', 'sicaklik': 16.0, 'tarih': '2023-03-10'},\n",
       " {'il': 'Kahramanmaras', 'sicaklik': 15.9, 'tarih': '2023-03-10'},\n",
       " {'il': 'Kirsehir', 'sicaklik': 16.4, 'tarih': '2023-03-10'},\n",
       " {'il': 'Karaman', 'sicaklik': 17.3, 'tarih': '2023-03-10'},\n",
       " {'il': 'Kayseri', 'sicaklik': 16.0, 'tarih': '2023-03-10'},\n",
       " {'il': 'Kilis', 'sicaklik': 16.0, 'tarih': '2023-03-10'},\n",
       " {'il': 'Kirklareli', 'sicaklik': 15.4, 'tarih': '2023-03-10'},\n",
       " {'il': 'Kirsehir', 'sicaklik': 16.0, 'tarih': '2023-03-10'},\n",
       " {'il': 'Kocaeli', 'sicaklik': 19.0, 'tarih': '2023-03-10'},\n",
       " {'il': 'Konya', 'sicaklik': 19.0, 'tarih': '2023-03-10'},\n",
       " {'il': 'Manisa', 'sicaklik': 20.0, 'tarih': '2023-03-10'},\n",
       " {'il': 'Mardin', 'sicaklik': 20.0, 'tarih': '2023-03-10'},\n",
       " {'il': 'Mersin', 'sicaklik': 17.1, 'tarih': '2023-03-10'},\n",
       " {'il': 'Nevsehir', 'sicaklik': 16.0, 'tarih': '2023-03-10'},\n",
       " {'il': 'Sakarya', 'sicaklik': 21.0, 'tarih': '2023-03-10'},\n",
       " {'il': 'Samsun', 'sicaklik': 19.0, 'tarih': '2023-03-10'},\n",
       " {'il': 'Sanliurfa', 'sicaklik': 17.0, 'tarih': '2023-03-10'},\n",
       " {'il': 'Tekirdag', 'sicaklik': 17.0, 'tarih': '2023-03-10'},\n",
       " {'il': 'Tokat', 'sicaklik': 17.0, 'tarih': '2023-03-10'},\n",
       " {'il': 'Yalova', 'sicaklik': 17.0, 'tarih': '2023-03-10'},\n",
       " {'il': 'Bolu', 'sicaklik': 20.0, 'tarih': '2023-03-10'}]"
      ]
     },
     "execution_count": 18,
     "metadata": {},
     "output_type": "execute_result"
    }
   ],
   "source": [
    "import requests\n",
    "import json\n",
    "from datetime import datetime\n",
    "import os\n",
    "\n",
    "def hava_durumu():\n",
    "    # os.environ['GOOGLE_APPLICATION_CREDENTIALS'] = 'dags/scripts/precise-clock-372315-7a62a98170c2.json'\n",
    "    url_lik = \"http://api.weatherapi.com/v1/current.json\"\n",
    "    access_key = \"fe661b56017447dab3d24625220704\"\n",
    "\n",
    "    iller = [\"Adana\", \"Adıyaman\", \"Afyonkarahisar\", \"Ağrı\", \"Aksaray\", \"Amasya\", \"Ankara\",\n",
    "              \"Antalya\", \"Ardahan\", \"Artvin\", \"Aydın\", \"Balıkesir\", \"Bartın\", \"Batman\", \n",
    "              \"Bayburt\", \"Bilecik\", \"Bingöl\", \"Bitlis\", \"Bolu\", \"Burdur\", \"Bursa\", \"Çanakkale\", \n",
    "              \"Çankırı\", \"Çorum\", \"Denizli\", \"Diyarbakır\", \"Düzce\", \"Edirne\", \"Elazığ\", \"Erzincan\", \n",
    "              \"Erzurum\", \"Eskişehir\", \"Gaziantep\", \"Giresun\", \"Gümüşhane\", \"Hakkâri\", \"Hatay\", \"Iğdır\", \n",
    "              \"Isparta\", \"İstanbul\", \"İzmir\", \"Kahramanmaraş\", \"Karabük\", \"Karaman\", \"Kars\", \"Kastamonu\", \n",
    "              \"Kayseri\", \"Kilis\", \"Kırıkkale\", \"Kırklareli\", \"Kırşehir\", \"Kocaeli\", \"Konya\", \"Kütahya\", \"Malatya\", \n",
    "              \"Manisa\", \"Mardin\", \"Mersin\", \"Muğla\", \"Muş\", \"Nevşehir\", \"Niğde\", \"Ordu\", \"Osmaniye\", \"Rize\", \n",
    "              \"Sakarya\", \"Samsun\", \"Şanlıurfa\", \"Siirt\", \"Sinop\", \"Sivas\", \"Şırnak\", \"Tekirdağ\", \"Tokat\", \n",
    "              \"Trabzon\", \"Tunceli\", \"Uşak\", \"Van\", \"Yalova\", \"Yozgat\", \"Zonguldak\"]\n",
    "    veriler = []\n",
    "    for i in iller:\n",
    "        response = requests.get(url=url_lik,params={\"key\":access_key,\"q\": f\"{i}\"}).json()\n",
    "        try:\n",
    "            if response[\"current\"][\"temp_c\"]>15:\n",
    "\n",
    "                deger = {\n",
    "                    \"il\":response[\"location\"][\"region\"],\n",
    "                    \"sicaklik\":response[\"current\"][\"temp_c\"],\n",
    "                    \"tarih\":response[\"location\"][\"localtime\"][:-6]\n",
    "                }\n",
    "                veriler.append(deger)\n",
    "            else:\n",
    "                continue\n",
    "        \n",
    "        except:\n",
    "            continue\n",
    "    return veriler\n",
    "hava_durumu()\n",
    "        "
   ]
  },
  {
   "cell_type": "code",
   "execution_count": 19,
   "metadata": {},
   "outputs": [],
   "source": [
    "import psycopg2 \n",
    "database_name=\"mydb\"\n",
    "user_name=\"myuser\"\n",
    "password=\"mypassword\"\n",
    "host_ip=\"localhost\"\n",
    "host_port=\"5432\"\n",
    "\n",
    "conn = psycopg2.connect(host=host_ip, database=database_name,\n",
    "                        user=user_name, password=password,port=host_port\n",
    ")\n",
    "conn.cursor().execute('''CREATE TABLE IF NOT EXISTS hava_durumu\n",
    "             (id SERIAL PRIMARY KEY,\n",
    "              il TEXT,\n",
    "              sicaklik int,\n",
    "              tarih date)''')\n",
    "conn.commit()\n"
   ]
  },
  {
   "cell_type": "code",
   "execution_count": 20,
   "metadata": {},
   "outputs": [],
   "source": [
    "cur = conn.cursor()\n",
    "veriler = hava_durumu()\n",
    "# Verileri kaydetmek için SQL sorgusu\n",
    "sql = \"\"\"INSERT INTO hava_durumu (il, sicaklik, tarih) VALUES (%s, %s, %s);\"\"\"\n",
    "\n",
    "# Her bir dict değerini kullanarak verileri Postgresql veritabanına kaydetmek için for döngüsü\n",
    "for veri in veriler:\n",
    "    cur.execute(sql, (veri[\"il\"], veri[\"sicaklik\"], veri[\"tarih\"]))\n",
    "\n",
    "# Veritabanındaki değişiklikleri kaydetme ve bağlantıyı kapatma\n",
    "conn.commit()\n",
    "cur.close()\n",
    "conn.close()\n"
   ]
  },
  {
   "cell_type": "code",
   "execution_count": null,
   "metadata": {},
   "outputs": [],
   "source": []
  }
 ],
 "metadata": {
  "kernelspec": {
   "display_name": "Python 3",
   "language": "python",
   "name": "python3"
  },
  "language_info": {
   "codemirror_mode": {
    "name": "ipython",
    "version": 3
   },
   "file_extension": ".py",
   "mimetype": "text/x-python",
   "name": "python",
   "nbconvert_exporter": "python",
   "pygments_lexer": "ipython3",
   "version": "3.10.10"
  },
  "orig_nbformat": 4
 },
 "nbformat": 4,
 "nbformat_minor": 2
}
