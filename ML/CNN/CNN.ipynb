{
 "cells": [
  {
   "cell_type": "code",
   "execution_count": 1,
   "metadata": {},
   "outputs": [
    {
     "name": "stderr",
     "output_type": "stream",
     "text": [
      "c:\\Users\\Yusuf\\miniconda3\\envs\\tensorflow-gpu\\lib\\site-packages\\numpy\\_distributor_init.py:30: UserWarning: loaded more than 1 DLL from .libs:\n",
      "c:\\Users\\Yusuf\\miniconda3\\envs\\tensorflow-gpu\\lib\\site-packages\\numpy\\.libs\\libopenblas.EL2C6PLE4ZYW3ECEVIV3OXXGRN2NRFM2.gfortran-win_amd64.dll\n",
      "c:\\Users\\Yusuf\\miniconda3\\envs\\tensorflow-gpu\\lib\\site-packages\\numpy\\.libs\\libopenblas.XWYDX2IKJW2NMTWSFYNGFUWKQU3LYTCZ.gfortran-win_amd64.dll\n",
      "  warnings.warn(\"loaded more than 1 DLL from .libs:\"\n"
     ]
    },
    {
     "name": "stdout",
     "output_type": "stream",
     "text": [
      "Found 299 images belonging to 3 classes.\n",
      "Found 33 images belonging to 3 classes.\n"
     ]
    }
   ],
   "source": [
    "import tensorflow as tf\n",
    "from tensorflow.keras.preprocessing.image import ImageDataGenerator\n",
    "base_dir = r\"Data\"\n",
    "\n",
    "train_datagen = ImageDataGenerator(\n",
    "    rescale=1./255,\n",
    "    validation_split=0.1\n",
    ")\n",
    "\n",
    "test_datagen = ImageDataGenerator(\n",
    "    rescale=1./255,\n",
    "    validation_split=0.1\n",
    ")\n",
    "train_datagen=train_datagen.flow_from_directory(base_dir,target_size=(224, 224),subset=\"training\",batch_size=2)#,class_mode=\"sparse\"\n",
    "test_datagen=test_datagen.flow_from_directory(base_dir,target_size=(224, 224),subset=\"validation\",batch_size=2)#,class_mode=\"sparse\"\n"
   ]
  },
  {
   "cell_type": "code",
   "execution_count": 2,
   "metadata": {},
   "outputs": [
    {
     "name": "stdout",
     "output_type": "stream",
     "text": [
      "Num GPUs Available:  1\n"
     ]
    }
   ],
   "source": [
    "print(\"Num GPUs Available: \", len(tf.config.list_physical_devices('GPU')))\n"
   ]
  },
  {
   "cell_type": "code",
   "execution_count": 3,
   "metadata": {},
   "outputs": [
    {
     "name": "stdout",
     "output_type": "stream",
     "text": [
      "1 Physical GPUs, 1 Logical GPU\n"
     ]
    }
   ],
   "source": [
    "gpus = tf.config.list_physical_devices('GPU')\n",
    "if gpus:\n",
    "  # Restrict TensorFlow to only use the first GPU\n",
    "  try:\n",
    "    tf.config.set_visible_devices(gpus[0], 'GPU')\n",
    "    logical_gpus = tf.config.list_logical_devices('GPU')\n",
    "    print(len(gpus), \"Physical GPUs,\", len(logical_gpus), \"Logical GPU\")\n",
    "  except RuntimeError as e:\n",
    "    # Visible devices must be set before GPUs have been initialized\n",
    "    print(e)"
   ]
  },
  {
   "cell_type": "code",
   "execution_count": 4,
   "metadata": {},
   "outputs": [],
   "source": [
    "import numpy as np\n",
    "import pylab as pl\n",
    "from tensorflow.keras import backend as K\n",
    "import matplotlib.pyplot as plt\n",
    "from tensorflow.keras.utils import to_categorical \n",
    "from tensorflow.keras.models import Sequential \n",
    "from tensorflow.keras.layers import Conv2D , MaxPooling2D , Dense, Dropout,Activation,Flatten \n",
    "from tensorflow.keras import layers,activations\n",
    "\n"
   ]
  },
  {
   "cell_type": "code",
   "execution_count": 5,
   "metadata": {},
   "outputs": [],
   "source": [
    "model = Sequential()\n",
    "\n",
    "model.add(Conv2D(filters=512,activation=\"relu\",kernel_size=(5,5),input_shape=(224, 224,3)))\n",
    "model.add(MaxPooling2D(2,2))\n",
    "model.add(Dropout(0.2))\n",
    "model.add(Conv2D(filters=1024,activation=\"relu\",kernel_size=(3,3)))\n",
    "model.add(MaxPooling2D(2,2))\n",
    "model.add(Dropout(0.2))\n",
    "\n",
    "model.add(Conv2D(filters=2048,activation=\"relu\",kernel_size=(2,2)))\n",
    "model.add(MaxPooling2D(2,2))\n",
    "model.add(Dropout(0.2))\n",
    "\n",
    "model.add(Conv2D(filters=4098,activation=\"relu\",kernel_size=(2,2)))\n",
    "\n",
    "\n",
    "\n",
    "model.add(Flatten())\n",
    "\n",
    "model.add(Dense(50,activation=\"relu\"))\n",
    "model.add(Dropout(0.2))\n",
    "\n",
    "model.add(Dense(100,activation=\"relu\"))\n",
    "model.add(Dense(100,activation=\"relu\"))\n",
    "\n",
    "model.add(Dropout(0.2))\n",
    "model.add(Dense(50,activation=\"relu\"))\n",
    "\n",
    "model.add(Dropout(0.2))\n",
    "model.add(Dense(3,activation=\"softmax\"))\n",
    "\n",
    "optimizer=tf.keras.optimizers.Adamax(learning_rate=0.001)\n",
    "loss = tf.keras.losses.CategoricalCrossentropy()\n",
    "model.compile(optimizer=optimizer,loss=loss,metrics=['accuracy'])"
   ]
  },
  {
   "cell_type": "code",
   "execution_count": 6,
   "metadata": {},
   "outputs": [
    {
     "name": "stdout",
     "output_type": "stream",
     "text": [
      "Epoch 1/12\n",
      "150/150 [==============================] - 37s 201ms/step - loss: 1.3692 - accuracy: 0.3411 - val_loss: 1.0739 - val_accuracy: 0.3333\n",
      "Epoch 2/12\n",
      "150/150 [==============================] - 28s 188ms/step - loss: 1.0013 - accuracy: 0.4849 - val_loss: 0.5924 - val_accuracy: 0.6667\n",
      "Epoch 3/12\n",
      "150/150 [==============================] - 28s 187ms/step - loss: 0.6210 - accuracy: 0.7023 - val_loss: 0.3450 - val_accuracy: 1.0000\n",
      "Epoch 4/12\n",
      "150/150 [==============================] - 28s 188ms/step - loss: 0.3219 - accuracy: 0.8696 - val_loss: 0.2515 - val_accuracy: 0.9091\n",
      "Epoch 5/12\n",
      "150/150 [==============================] - 28s 188ms/step - loss: 0.2712 - accuracy: 0.8930 - val_loss: 0.0204 - val_accuracy: 1.0000\n",
      "Epoch 6/12\n",
      "150/150 [==============================] - 28s 188ms/step - loss: 0.2321 - accuracy: 0.9298 - val_loss: 0.0056 - val_accuracy: 1.0000\n",
      "Epoch 7/12\n",
      "150/150 [==============================] - 28s 188ms/step - loss: 0.1823 - accuracy: 0.9264 - val_loss: 5.8326e-04 - val_accuracy: 1.0000\n",
      "Epoch 8/12\n",
      "150/150 [==============================] - 28s 188ms/step - loss: 0.1911 - accuracy: 0.9331 - val_loss: 7.6447e-04 - val_accuracy: 1.0000\n",
      "Epoch 9/12\n",
      "150/150 [==============================] - 28s 188ms/step - loss: 0.1699 - accuracy: 0.9264 - val_loss: 0.0569 - val_accuracy: 1.0000\n",
      "Epoch 10/12\n",
      "150/150 [==============================] - 28s 188ms/step - loss: 0.1974 - accuracy: 0.9298 - val_loss: 0.0260 - val_accuracy: 1.0000\n",
      "Epoch 11/12\n",
      "150/150 [==============================] - 28s 188ms/step - loss: 0.0516 - accuracy: 0.9866 - val_loss: 1.7811e-04 - val_accuracy: 1.0000\n",
      "Epoch 12/12\n",
      "150/150 [==============================] - 28s 189ms/step - loss: 0.1821 - accuracy: 0.9431 - val_loss: 0.0415 - val_accuracy: 1.0000\n"
     ]
    }
   ],
   "source": [
    "result = model.fit(train_datagen,epochs=12,batch_size=16,verbose=1,validation_data=test_datagen)"
   ]
  },
  {
   "cell_type": "markdown",
   "metadata": {},
   "source": [
    "## Model Test"
   ]
  },
  {
   "cell_type": "code",
   "execution_count": 7,
   "metadata": {},
   "outputs": [
    {
     "name": "stdout",
     "output_type": "stream",
     "text": [
      "17/17 [==============================] - 1s 52ms/step - loss: 0.0415 - accuracy: 1.0000\n"
     ]
    },
    {
     "data": {
      "text/plain": [
       "[0.041506119072437286, 1.0]"
      ]
     },
     "execution_count": 7,
     "metadata": {},
     "output_type": "execute_result"
    }
   ],
   "source": [
    "model.evaluate(test_datagen)"
   ]
  },
  {
   "cell_type": "markdown",
   "metadata": {},
   "source": [
    "### Model Kayıt Etme"
   ]
  },
  {
   "cell_type": "code",
   "execution_count": 8,
   "metadata": {},
   "outputs": [],
   "source": [
    "model.save(\"vision-model.h5\")\n",
    "# model.save_weights(\"save_model_weights/\")\n",
    "# model.save_weights(\"save_model_weights/video.h5\")\n",
    "\n"
   ]
  }
 ],
 "metadata": {
  "kernelspec": {
   "display_name": "tensorflow-gpu",
   "language": "python",
   "name": "python3"
  },
  "language_info": {
   "codemirror_mode": {
    "name": "ipython",
    "version": 3
   },
   "file_extension": ".py",
   "mimetype": "text/x-python",
   "name": "python",
   "nbconvert_exporter": "python",
   "pygments_lexer": "ipython3",
   "version": "3.8.16"
  },
  "orig_nbformat": 4,
  "vscode": {
   "interpreter": {
    "hash": "d1a5569b4fbbae791d9a43500451421ea726f75cdef7ee15b957fe906198025e"
   }
  }
 },
 "nbformat": 4,
 "nbformat_minor": 2
}
